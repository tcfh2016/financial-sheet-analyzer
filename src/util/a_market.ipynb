{
 "cells": [
  {
   "cell_type": "markdown",
   "metadata": {},
   "source": [
    "## 上交所"
   ]
  },
  {
   "cell_type": "code",
   "execution_count": 1,
   "metadata": {},
   "outputs": [
    {
     "name": "stdout",
     "output_type": "stream",
     "text": [
      "      项目         股票         主板       科创板\n",
      "0   流通股本   45385.46   44140.26    1245.2\n",
      "1    总市值  470660.47   415599.3  55061.17\n",
      "2  平均市盈率      12.17      11.31     31.55\n",
      "3   上市公司       2271       1702       569\n",
      "4   上市股票       2310       1741       569\n",
      "5   流通市值  430392.44  394098.75   36293.7\n",
      "6   报告时间   20240301   20240301  20240301\n",
      "8    总股本   49127.86   46993.29   2134.56\n"
     ]
    }
   ],
   "source": [
    "import akshare as ak\n",
    "\n",
    "stock_sse_summary_df = ak.stock_sse_summary()\n",
    "print(stock_sse_summary_df)"
   ]
  },
  {
   "cell_type": "markdown",
   "metadata": {},
   "source": [
    "## 深交所"
   ]
  },
  {
   "cell_type": "code",
   "execution_count": 2,
   "metadata": {},
   "outputs": [
    {
     "name": "stdout",
     "output_type": "stream",
     "text": [
      "     证券类别    数量          成交金额           总市值          流通市值\n",
      "0      股票  2284  4.647749e+11  2.706514e+13  2.104546e+13\n",
      "1    主板A股   460  9.775950e+10  7.864787e+12  6.943990e+12\n",
      "2    主板B股    46  8.626816e+07  4.759658e+10  4.706385e+10\n",
      "3     中小板   960  2.013526e+11  1.130741e+13  8.669555e+12\n",
      "4   创业板A股   818  1.655765e+11  7.845345e+12  5.384854e+12\n",
      "5      基金   551  1.362524e+10  2.417277e+11  2.417277e+11\n",
      "6     ETF   100  1.165436e+10  1.628294e+11  1.628294e+11\n",
      "7     LOF   250  7.335768e+08  4.043156e+10  4.043156e+10\n",
      "8   封闭式基金     1  5.527571e+05  7.622440e+08  7.622440e+08\n",
      "9    分级基金   200  1.236746e+09  3.770451e+10  3.770451e+10\n",
      "10     债券  7174  1.371389e+11           NaN           NaN\n",
      "11   债券现券  6599  2.911357e+10  3.683881e+13  1.823072e+12\n",
      "12   债券回购    13  1.054592e+11           NaN           NaN\n",
      "13    ABS   562  2.566134e+09  4.849642e+11  4.849642e+11\n",
      "14     期权   108  2.441560e+08           NaN           NaN\n"
     ]
    }
   ],
   "source": [
    "import akshare as ak\n",
    "\n",
    "stock_szse_summary_df = ak.stock_szse_summary()\n",
    "print(stock_szse_summary_df)"
   ]
  }
 ],
 "metadata": {
  "kernelspec": {
   "display_name": "Python 3",
   "language": "python",
   "name": "python3"
  },
  "language_info": {
   "codemirror_mode": {
    "name": "ipython",
    "version": 3
   },
   "file_extension": ".py",
   "mimetype": "text/x-python",
   "name": "python",
   "nbconvert_exporter": "python",
   "pygments_lexer": "ipython3",
   "version": "3.8.13"
  }
 },
 "nbformat": 4,
 "nbformat_minor": 2
}
